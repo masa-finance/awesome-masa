{
 "cells": [
  {
   "cell_type": "code",
   "execution_count": 18,
   "metadata": {},
   "outputs": [],
   "source": [
    "import duckdb\n",
    "import pandas as pd\n",
    "\n",
    "# Connect to DuckDB\n",
    "conn = duckdb.connect()\n",
    "\n",
    "# Load the parquet file\n",
    "df = pd.read_parquet('/Users/cschroeder/Documents/Github/awesome-masa/TMA/generated_images/batch_20241021_180813/image_metadata_20241021_180813.parquet')\n",
    "\n"
   ]
  },
  {
   "cell_type": "code",
   "execution_count": 19,
   "metadata": {},
   "outputs": [
    {
     "data": {
      "text/plain": [
       "0              Is the golden anklet hidden somewhere in the scene?\n",
       "1    Are there 3 green bookmarks hidden in the cozy library scene?\n",
       "2        Are both large stone tablets present in the illustration?\n",
       "3           Is there a large red bucket hidden in the beach scene?\n",
       "4        Are there 6 small red aprons hidden in the kitchen scene?\n",
       "Name: validation_question, dtype: object"
      ]
     },
     "execution_count": 19,
     "metadata": {},
     "output_type": "execute_result"
    }
   ],
   "source": [
    "# I want to display an untruncated validation question\n",
    "pd.set_option('display.max_colwidth', None)\n",
    "df.validation_question\n",
    "\n"
   ]
  },
  {
   "cell_type": "code",
   "execution_count": null,
   "metadata": {},
   "outputs": [],
   "source": []
  }
 ],
 "metadata": {
  "kernelspec": {
   "display_name": "base",
   "language": "python",
   "name": "python3"
  },
  "language_info": {
   "codemirror_mode": {
    "name": "ipython",
    "version": 3
   },
   "file_extension": ".py",
   "mimetype": "text/x-python",
   "name": "python",
   "nbconvert_exporter": "python",
   "pygments_lexer": "ipython3",
   "version": "3.12.2"
  }
 },
 "nbformat": 4,
 "nbformat_minor": 2
}
