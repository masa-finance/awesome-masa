{
 "cells": [
  {
   "cell_type": "code",
   "execution_count": 6,
   "metadata": {},
   "outputs": [],
   "source": [
    "import duckdb\n",
    "import pandas as pd\n",
    "\n",
    "# Connect to DuckDB\n",
    "conn = duckdb.connect()\n",
    "\n",
    "# Load the parquet file\n",
    "df = pd.read_parquet('/Users/cschroeder/Documents/Github/awesome-masa/TMA/generated_images/batch_20241018_145414/image_metadata_20241018_145414.parquet')\n",
    "\n"
   ]
  },
  {
   "cell_type": "code",
   "execution_count": 7,
   "metadata": {},
   "outputs": [
    {
     "data": {
      "text/html": [
       "<div>\n",
       "<style scoped>\n",
       "    .dataframe tbody tr th:only-of-type {\n",
       "        vertical-align: middle;\n",
       "    }\n",
       "\n",
       "    .dataframe tbody tr th {\n",
       "        vertical-align: top;\n",
       "    }\n",
       "\n",
       "    .dataframe thead th {\n",
       "        text-align: right;\n",
       "    }\n",
       "</style>\n",
       "<table border=\"1\" class=\"dataframe\">\n",
       "  <thead>\n",
       "    <tr style=\"text-align: right;\">\n",
       "      <th></th>\n",
       "      <th>prompt</th>\n",
       "      <th>validation_question</th>\n",
       "      <th>image_path</th>\n",
       "      <th>image_url</th>\n",
       "    </tr>\n",
       "  </thead>\n",
       "  <tbody>\n",
       "    <tr>\n",
       "      <th>0</th>\n",
       "      <td>A mesmerizing underwater scene with multiple c...</td>\n",
       "      <td>Is there a seahorse hidden among the fish in t...</td>\n",
       "      <td>generated_images/batch_20241018_145414/A_mesme...</td>\n",
       "      <td>https://oaidalleapiprodscus.blob.core.windows....</td>\n",
       "    </tr>\n",
       "    <tr>\n",
       "      <th>1</th>\n",
       "      <td>A serene beach scene with seagulls flying over...</td>\n",
       "      <td>Is there a message in a bottle on the beach in...</td>\n",
       "      <td>generated_images/batch_20241018_145414/A_seren...</td>\n",
       "      <td>https://oaidalleapiprodscus.blob.core.windows....</td>\n",
       "    </tr>\n",
       "  </tbody>\n",
       "</table>\n",
       "</div>"
      ],
      "text/plain": [
       "                                              prompt  \\\n",
       "0  A mesmerizing underwater scene with multiple c...   \n",
       "1  A serene beach scene with seagulls flying over...   \n",
       "\n",
       "                                 validation_question  \\\n",
       "0  Is there a seahorse hidden among the fish in t...   \n",
       "1  Is there a message in a bottle on the beach in...   \n",
       "\n",
       "                                          image_path  \\\n",
       "0  generated_images/batch_20241018_145414/A_mesme...   \n",
       "1  generated_images/batch_20241018_145414/A_seren...   \n",
       "\n",
       "                                           image_url  \n",
       "0  https://oaidalleapiprodscus.blob.core.windows....  \n",
       "1  https://oaidalleapiprodscus.blob.core.windows....  "
      ]
     },
     "execution_count": 7,
     "metadata": {},
     "output_type": "execute_result"
    }
   ],
   "source": [
    "df.head()"
   ]
  },
  {
   "cell_type": "code",
   "execution_count": null,
   "metadata": {},
   "outputs": [],
   "source": []
  }
 ],
 "metadata": {
  "kernelspec": {
   "display_name": "base",
   "language": "python",
   "name": "python3"
  },
  "language_info": {
   "codemirror_mode": {
    "name": "ipython",
    "version": 3
   },
   "file_extension": ".py",
   "mimetype": "text/x-python",
   "name": "python",
   "nbconvert_exporter": "python",
   "pygments_lexer": "ipython3",
   "version": "3.12.2"
  }
 },
 "nbformat": 4,
 "nbformat_minor": 2
}
